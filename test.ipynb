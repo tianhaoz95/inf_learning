{
 "cells": [
  {
   "cell_type": "code",
   "execution_count": 2,
   "metadata": {},
   "outputs": [
    {
     "name": "stderr",
     "output_type": "stream",
     "text": [
      "C:\\Users\\tianh\\Desktop\\environments\\mlenv\\lib\\site-packages\\gensim\\utils.py:1167: UserWarning: detected Windows; aliasing chunkize to chunkize_serial\n",
      "  warnings.warn(\"detected Windows; aliasing chunkize to chunkize_serial\")\n"
     ]
    }
   ],
   "source": [
    "%matplotlib inline\n",
    "from util.dataset_util import *\n",
    "import numpy as np\n",
    "import matplotlib.pyplot as plt"
   ]
  },
  {
   "cell_type": "code",
   "execution_count": 3,
   "metadata": {},
   "outputs": [],
   "source": [
    "embedding_model = read_embedding_model('model/GoogleNews-vectors-negative300.bin')"
   ]
  },
  {
   "cell_type": "code",
   "execution_count": 12,
   "metadata": {},
   "outputs": [
    {
     "data": {
      "text/plain": [
       "True"
      ]
     },
     "execution_count": 12,
     "metadata": {},
     "output_type": "execute_result"
    }
   ],
   "source": [
    "'smartphone' in embedding_model.vocab"
   ]
  },
  {
   "cell_type": "code",
   "execution_count": 68,
   "metadata": {},
   "outputs": [
    {
     "data": {
      "text/plain": [
       "[('soft_drink', 0.7037402391433716),\n",
       " ('colas', 0.6932304501533508),\n",
       " ('softdrink', 0.6684579849243164),\n",
       " ('Cola', 0.651181697845459),\n",
       " ('carbonated_drink', 0.6502783894538879),\n",
       " ('soft_drinks', 0.6442747712135315),\n",
       " ('cola_drinks', 0.6398938894271851),\n",
       " ('nimbu_paani', 0.6256726384162903),\n",
       " ('Coke', 0.6216197609901428),\n",
       " ('carbonated_drinks', 0.6174259185791016),\n",
       " ('soda', 0.6156541109085083),\n",
       " ('softdrinks', 0.6153414249420166),\n",
       " ('Coke_Fanta', 0.6111522912979126),\n",
       " ('fizzy_drink', 0.6109098196029663),\n",
       " ('diet_cola', 0.6096039414405823),\n",
       " ('Pepsi_cola', 0.6087827086448669),\n",
       " ('Diet_Coke', 0.6048711538314819),\n",
       " ('Vanilla_Coke', 0.6028546094894409),\n",
       " ('fizzy_drinks', 0.5958073139190674),\n",
       " ('Bisleri', 0.5956799983978271),\n",
       " ('cola_giants', 0.5908406972885132),\n",
       " ('diet_colas', 0.589797854423523),\n",
       " ('aerated_drinks', 0.5885592103004456),\n",
       " ('Rooh_Afza', 0.5835984349250793),\n",
       " ('Frooti', 0.5832673907279968),\n",
       " ('nimbu_pani', 0.5827832818031311),\n",
       " ('carbonated', 0.582513153553009),\n",
       " ('noncarbonated_beverage', 0.5824008584022522),\n",
       " ('Coke_Dasani', 0.5817779302597046),\n",
       " ('fruit_juice', 0.5798034071922302)]"
      ]
     },
     "execution_count": 68,
     "metadata": {},
     "output_type": "execute_result"
    }
   ],
   "source": [
    "embedding_model.similar_by_word('cola', topn=30)"
   ]
  },
  {
   "cell_type": "code",
   "execution_count": 37,
   "metadata": {},
   "outputs": [
    {
     "data": {
      "text/plain": [
       "3000000"
      ]
     },
     "execution_count": 37,
     "metadata": {},
     "output_type": "execute_result"
    }
   ],
   "source": [
    "len(embedding_model.vocab)"
   ]
  },
  {
   "cell_type": "code",
   "execution_count": 49,
   "metadata": {},
   "outputs": [
    {
     "data": {
      "text/plain": [
       "0.12333073476187933"
      ]
     },
     "execution_count": 49,
     "metadata": {},
     "output_type": "execute_result"
    }
   ],
   "source": [
    "embedding_model.similarity('Hadron_collider', 'cat')"
   ]
  },
  {
   "cell_type": "code",
   "execution_count": null,
   "metadata": {},
   "outputs": [],
   "source": []
  }
 ],
 "metadata": {
  "kernelspec": {
   "display_name": "ml-env",
   "language": "python",
   "name": "ml-env"
  },
  "language_info": {
   "codemirror_mode": {
    "name": "ipython",
    "version": 3
   },
   "file_extension": ".py",
   "mimetype": "text/x-python",
   "name": "python",
   "nbconvert_exporter": "python",
   "pygments_lexer": "ipython3",
   "version": "3.6.3"
  }
 },
 "nbformat": 4,
 "nbformat_minor": 2
}

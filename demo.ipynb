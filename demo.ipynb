{
 "cells": [
  {
   "cell_type": "code",
   "execution_count": 1,
   "metadata": {},
   "outputs": [
    {
     "name": "stderr",
     "output_type": "stream",
     "text": [
      "C:\\Users\\tianh\\Desktop\\environments\\mlenv\\lib\\site-packages\\gensim\\utils.py:1167: UserWarning: detected Windows; aliasing chunkize to chunkize_serial\n",
      "  warnings.warn(\"detected Windows; aliasing chunkize to chunkize_serial\")\n",
      "C:\\Users\\tianh\\Desktop\\environments\\mlenv\\lib\\site-packages\\h5py\\__init__.py:36: FutureWarning: Conversion of the second argument of issubdtype from `float` to `np.floating` is deprecated. In future, it will be treated as `np.float64 == np.dtype(float).type`.\n",
      "  from ._conv import register_converters as _register_converters\n",
      "Using TensorFlow backend.\n"
     ]
    }
   ],
   "source": [
    "import gensim\n",
    "import matplotlib.pyplot as plt\n",
    "import numpy as np\n",
    "from PIL import Image\n",
    "from util.dataset_util import *\n",
    "from util.model_util import *\n",
    "from keras.applications.vgg16 import VGG16\n",
    "from keras.models import load_model"
   ]
  },
  {
   "cell_type": "code",
   "execution_count": 2,
   "metadata": {},
   "outputs": [],
   "source": [
    "embedding_model = read_embedding_model('model/GoogleNews-vectors-negative300.bin')"
   ]
  },
  {
   "cell_type": "code",
   "execution_count": 3,
   "metadata": {},
   "outputs": [
    {
     "name": "stderr",
     "output_type": "stream",
     "text": [
      "C:\\Users\\tianh\\Desktop\\environments\\mlenv\\lib\\site-packages\\keras\\models.py:291: UserWarning: Error in loading the saved optimizer state. As a result, your model is starting with a freshly initialized optimizer.\n",
      "  warnings.warn('Error in loading the saved optimizer '\n"
     ]
    }
   ],
   "source": [
    "model = None\n",
    "load_saved = True\n",
    "if load_saved:\n",
    "    model = load_model('model/saved_model.h5')\n",
    "else:\n",
    "    model = create_model()"
   ]
  },
  {
   "cell_type": "code",
   "execution_count": 4,
   "metadata": {},
   "outputs": [
    {
     "name": "stdout",
     "output_type": "stream",
     "text": [
      "_________________________________________________________________\n",
      "Layer (type)                 Output Shape              Param #   \n",
      "=================================================================\n",
      "vgg16 (Model)                (None, 512)               14714688  \n",
      "_________________________________________________________________\n",
      "dense_1 (Dense)              (None, 2048)              1050624   \n",
      "_________________________________________________________________\n",
      "dense_2 (Dense)              (None, 1024)              2098176   \n",
      "_________________________________________________________________\n",
      "dense_3 (Dense)              (None, 512)               524800    \n",
      "_________________________________________________________________\n",
      "dense_4 (Dense)              (None, 300)               153900    \n",
      "=================================================================\n",
      "Total params: 18,542,188\n",
      "Trainable params: 18,542,188\n",
      "Non-trainable params: 0\n",
      "_________________________________________________________________\n"
     ]
    }
   ],
   "source": [
    "model.summary()"
   ]
  },
  {
   "cell_type": "code",
   "execution_count": 5,
   "metadata": {},
   "outputs": [
    {
     "name": "stdout",
     "output_type": "stream",
     "text": [
      "Train on 509 samples, validate on 128 samples\n",
      "Epoch 1/10\n",
      "509/509 [==============================] - 26s 51ms/step - loss: 0.1157 - val_loss: 0.1145\n",
      "Epoch 2/10\n",
      "509/509 [==============================] - 17s 34ms/step - loss: 0.1134 - val_loss: 0.1118\n",
      "Epoch 3/10\n",
      "509/509 [==============================] - 17s 34ms/step - loss: 0.1107 - val_loss: 0.1090\n",
      "Epoch 4/10\n",
      "509/509 [==============================] - 17s 34ms/step - loss: 0.1081 - val_loss: 0.1065\n",
      "Epoch 5/10\n",
      "509/509 [==============================] - 17s 34ms/step - loss: 0.1056 - val_loss: 0.1041\n",
      "Epoch 6/10\n",
      "509/509 [==============================] - 17s 34ms/step - loss: 0.1034 - val_loss: 0.1019\n",
      "Epoch 7/10\n",
      "509/509 [==============================] - 17s 34ms/step - loss: 0.1012 - val_loss: 0.0998\n",
      "Epoch 8/10\n",
      "509/509 [==============================] - 17s 34ms/step - loss: 0.0993 - val_loss: 0.0979\n",
      "Epoch 9/10\n",
      "509/509 [==============================] - 17s 34ms/step - loss: 0.0974 - val_loss: 0.0961\n",
      "Epoch 10/10\n",
      "509/509 [==============================] - 17s 34ms/step - loss: 0.0956 - val_loss: 0.0944\n",
      "Train on 501 samples, validate on 126 samples\n",
      "Epoch 1/10\n",
      "501/501 [==============================] - 22s 44ms/step - loss: 0.0883 - val_loss: 0.0869\n",
      "Epoch 2/10\n",
      "501/501 [==============================] - 17s 34ms/step - loss: 0.0866 - val_loss: 0.0853\n",
      "Epoch 3/10\n",
      "501/501 [==============================] - 17s 34ms/step - loss: 0.0850 - val_loss: 0.0837\n",
      "Epoch 4/10\n",
      "501/501 [==============================] - 17s 34ms/step - loss: 0.0834 - val_loss: 0.0822\n",
      "Epoch 5/10\n",
      "501/501 [==============================] - 17s 34ms/step - loss: 0.0819 - val_loss: 0.0808\n",
      "Epoch 6/10\n",
      "501/501 [==============================] - 17s 34ms/step - loss: 0.0805 - val_loss: 0.0794\n",
      "Epoch 7/10\n",
      "501/501 [==============================] - 17s 34ms/step - loss: 0.0792 - val_loss: 0.0782\n",
      "Epoch 8/10\n",
      "501/501 [==============================] - 17s 34ms/step - loss: 0.0779 - val_loss: 0.0769\n",
      "Epoch 9/10\n",
      "501/501 [==============================] - 17s 34ms/step - loss: 0.0767 - val_loss: 0.0758\n",
      "Epoch 10/10\n",
      "501/501 [==============================] - 17s 34ms/step - loss: 0.0756 - val_loss: 0.0747\n"
     ]
    },
    {
     "ename": "KeyError",
     "evalue": "\"word 'gerenuk' not in vocabulary\"",
     "output_type": "error",
     "traceback": [
      "\u001b[1;31m---------------------------------------------------------------------------\u001b[0m",
      "\u001b[1;31mKeyError\u001b[0m                                  Traceback (most recent call last)",
      "\u001b[1;32m<ipython-input-5-84a6a27d5219>\u001b[0m in \u001b[0;36m<module>\u001b[1;34m()\u001b[0m\n\u001b[0;32m      4\u001b[0m     \u001b[1;31m#imgs, labels = read_cifar_batch('data/cifar100', 'train', 'meta', embedding_model, (224, 224), 1000)\u001b[0m\u001b[1;33m\u001b[0m\u001b[1;33m\u001b[0m\u001b[0m\n\u001b[0;32m      5\u001b[0m     \u001b[1;31m#loss = model.fit(x=imgs, y=labels, epochs=10, verbose=1, validation_split=0.2)\u001b[0m\u001b[1;33m\u001b[0m\u001b[1;33m\u001b[0m\u001b[0m\n\u001b[1;32m----> 6\u001b[1;33m     \u001b[0mimgs\u001b[0m\u001b[1;33m,\u001b[0m \u001b[0mlabels\u001b[0m \u001b[1;33m=\u001b[0m \u001b[0mread_caltech\u001b[0m\u001b[1;33m(\u001b[0m\u001b[1;34m'data/caltech101'\u001b[0m\u001b[1;33m,\u001b[0m \u001b[1;36m10\u001b[0m\u001b[1;33m,\u001b[0m \u001b[1;33m(\u001b[0m\u001b[1;36m224\u001b[0m\u001b[1;33m,\u001b[0m \u001b[1;36m224\u001b[0m\u001b[1;33m)\u001b[0m\u001b[1;33m,\u001b[0m \u001b[0membedding_model\u001b[0m\u001b[1;33m)\u001b[0m\u001b[1;33m\u001b[0m\u001b[0m\n\u001b[0m\u001b[0;32m      7\u001b[0m     \u001b[0mloss\u001b[0m \u001b[1;33m=\u001b[0m \u001b[0mmodel\u001b[0m\u001b[1;33m.\u001b[0m\u001b[0mfit\u001b[0m\u001b[1;33m(\u001b[0m\u001b[0mx\u001b[0m\u001b[1;33m=\u001b[0m\u001b[0mimgs\u001b[0m\u001b[1;33m,\u001b[0m \u001b[0my\u001b[0m\u001b[1;33m=\u001b[0m\u001b[0mlabels\u001b[0m\u001b[1;33m,\u001b[0m \u001b[0mepochs\u001b[0m\u001b[1;33m=\u001b[0m\u001b[1;36m10\u001b[0m\u001b[1;33m,\u001b[0m \u001b[0mverbose\u001b[0m\u001b[1;33m=\u001b[0m\u001b[1;36m1\u001b[0m\u001b[1;33m,\u001b[0m \u001b[0mvalidation_split\u001b[0m\u001b[1;33m=\u001b[0m\u001b[1;36m0.2\u001b[0m\u001b[1;33m)\u001b[0m\u001b[1;33m\u001b[0m\u001b[0m\n",
      "\u001b[1;32m~\\Desktop\\development\\inf_learning\\util\\dataset_util.py\u001b[0m in \u001b[0;36mread_caltech\u001b[1;34m(root, class_size, resolution, model)\u001b[0m\n\u001b[0;32m    121\u001b[0m         \u001b[0midx\u001b[0m \u001b[1;33m=\u001b[0m \u001b[0mnp\u001b[0m\u001b[1;33m.\u001b[0m\u001b[0mrandom\u001b[0m\u001b[1;33m.\u001b[0m\u001b[0mrandint\u001b[0m\u001b[1;33m(\u001b[0m\u001b[1;36m0\u001b[0m\u001b[1;33m,\u001b[0m \u001b[0mlen\u001b[0m\u001b[1;33m(\u001b[0m\u001b[0mclass_names\u001b[0m\u001b[1;33m)\u001b[0m\u001b[1;33m)\u001b[0m\u001b[1;33m\u001b[0m\u001b[0m\n\u001b[0;32m    122\u001b[0m         \u001b[0mclass_name\u001b[0m \u001b[1;33m=\u001b[0m \u001b[0mclass_names\u001b[0m\u001b[1;33m[\u001b[0m\u001b[0midx\u001b[0m\u001b[1;33m]\u001b[0m\u001b[1;33m\u001b[0m\u001b[0m\n\u001b[1;32m--> 123\u001b[1;33m         \u001b[0mclass_data\u001b[0m \u001b[1;33m=\u001b[0m \u001b[0mread_one_caltech_class\u001b[0m\u001b[1;33m(\u001b[0m\u001b[0mroot\u001b[0m\u001b[1;33m,\u001b[0m \u001b[0mclass_name\u001b[0m\u001b[1;33m,\u001b[0m \u001b[0mresolution\u001b[0m\u001b[1;33m,\u001b[0m \u001b[0mmodel\u001b[0m\u001b[1;33m)\u001b[0m\u001b[1;33m\u001b[0m\u001b[0m\n\u001b[0m\u001b[0;32m    124\u001b[0m         \u001b[0mdata_list\u001b[0m\u001b[1;33m.\u001b[0m\u001b[0mextend\u001b[0m\u001b[1;33m(\u001b[0m\u001b[0mclass_data\u001b[0m\u001b[1;33m)\u001b[0m\u001b[1;33m\u001b[0m\u001b[0m\n\u001b[0;32m    125\u001b[0m     \u001b[0mnp\u001b[0m\u001b[1;33m.\u001b[0m\u001b[0mrandom\u001b[0m\u001b[1;33m.\u001b[0m\u001b[0mshuffle\u001b[0m\u001b[1;33m(\u001b[0m\u001b[0mdata_list\u001b[0m\u001b[1;33m)\u001b[0m\u001b[1;33m\u001b[0m\u001b[0m\n",
      "\u001b[1;32m~\\Desktop\\development\\inf_learning\\util\\dataset_util.py\u001b[0m in \u001b[0;36mread_one_caltech_class\u001b[1;34m(root, class_name, resolution, model)\u001b[0m\n\u001b[0;32m    103\u001b[0m     \u001b[0mlabel_arr\u001b[0m \u001b[1;33m=\u001b[0m \u001b[0mnp\u001b[0m\u001b[1;33m.\u001b[0m\u001b[0mzeros\u001b[0m\u001b[1;33m(\u001b[0m\u001b[1;36m300\u001b[0m\u001b[1;33m)\u001b[0m\u001b[1;33m\u001b[0m\u001b[0m\n\u001b[0;32m    104\u001b[0m     \u001b[1;32mfor\u001b[0m \u001b[0mw\u001b[0m \u001b[1;32min\u001b[0m \u001b[0mwords\u001b[0m\u001b[1;33m:\u001b[0m\u001b[1;33m\u001b[0m\u001b[0m\n\u001b[1;32m--> 105\u001b[1;33m         \u001b[0mlabel_arr\u001b[0m \u001b[1;33m=\u001b[0m \u001b[0mlabel_arr\u001b[0m \u001b[1;33m+\u001b[0m \u001b[0mmodel\u001b[0m\u001b[1;33m.\u001b[0m\u001b[0mword_vec\u001b[0m\u001b[1;33m(\u001b[0m\u001b[0mw\u001b[0m\u001b[1;33m)\u001b[0m\u001b[1;33m\u001b[0m\u001b[0m\n\u001b[0m\u001b[0;32m    106\u001b[0m     \u001b[0mlabel_arr\u001b[0m \u001b[1;33m=\u001b[0m \u001b[0mlabel_arr\u001b[0m \u001b[1;33m/\u001b[0m \u001b[0mlen\u001b[0m\u001b[1;33m(\u001b[0m\u001b[0mwords\u001b[0m\u001b[1;33m)\u001b[0m\u001b[1;33m\u001b[0m\u001b[0m\n\u001b[0;32m    107\u001b[0m     \u001b[0mfilenames\u001b[0m \u001b[1;33m=\u001b[0m \u001b[0mos\u001b[0m\u001b[1;33m.\u001b[0m\u001b[0mlistdir\u001b[0m\u001b[1;33m(\u001b[0m\u001b[0mroot\u001b[0m \u001b[1;33m+\u001b[0m \u001b[1;34m'/'\u001b[0m \u001b[1;33m+\u001b[0m \u001b[0mclass_name\u001b[0m\u001b[1;33m)\u001b[0m\u001b[1;33m\u001b[0m\u001b[0m\n",
      "\u001b[1;32m~\\Desktop\\environments\\mlenv\\lib\\site-packages\\gensim\\models\\keyedvectors.py\u001b[0m in \u001b[0;36mword_vec\u001b[1;34m(self, word, use_norm)\u001b[0m\n\u001b[0;32m    267\u001b[0m             \u001b[1;32mreturn\u001b[0m \u001b[0mresult\u001b[0m\u001b[1;33m\u001b[0m\u001b[0m\n\u001b[0;32m    268\u001b[0m         \u001b[1;32melse\u001b[0m\u001b[1;33m:\u001b[0m\u001b[1;33m\u001b[0m\u001b[0m\n\u001b[1;32m--> 269\u001b[1;33m             \u001b[1;32mraise\u001b[0m \u001b[0mKeyError\u001b[0m\u001b[1;33m(\u001b[0m\u001b[1;34m\"word '%s' not in vocabulary\"\u001b[0m \u001b[1;33m%\u001b[0m \u001b[0mword\u001b[0m\u001b[1;33m)\u001b[0m\u001b[1;33m\u001b[0m\u001b[0m\n\u001b[0m\u001b[0;32m    270\u001b[0m \u001b[1;33m\u001b[0m\u001b[0m\n\u001b[0;32m    271\u001b[0m     \u001b[1;32mdef\u001b[0m \u001b[0mget_vector\u001b[0m\u001b[1;33m(\u001b[0m\u001b[0mself\u001b[0m\u001b[1;33m,\u001b[0m \u001b[0mword\u001b[0m\u001b[1;33m)\u001b[0m\u001b[1;33m:\u001b[0m\u001b[1;33m\u001b[0m\u001b[0m\n",
      "\u001b[1;31mKeyError\u001b[0m: \"word 'gerenuk' not in vocabulary\""
     ]
    }
   ],
   "source": [
    "for i in range(3):\n",
    "    imgs, labels = read_cifar_batch('data/cifar10', 'data_batch_'+str(i%5+1), 'batches.meta', embedding_model, (224, 224), 1000)\n",
    "    loss = model.fit(x=imgs, y=labels, epochs=10, verbose=1, validation_split=0.2)\n",
    "    imgs, labels = read_cifar_batch('data/cifar100', 'train', 'meta', embedding_model, (224, 224), 1000)\n",
    "    loss = model.fit(x=imgs, y=labels, epochs=10, verbose=1, validation_split=0.2)\n",
    "    imgs, labels = read_caltech('data/caltech101', 10, (224, 224), embedding_model)\n",
    "    loss = model.fit(x=imgs, y=labels, epochs=10, verbose=1, validation_split=0.2)"
   ]
  },
  {
   "cell_type": "code",
   "execution_count": 6,
   "metadata": {},
   "outputs": [
    {
     "name": "stdout",
     "output_type": "stream",
     "text": [
      "\r",
      "1/1 [==============================] - 1s 807ms/step\n"
     ]
    },
    {
     "data": {
      "text/plain": [
       "[('abating', 0.29838889837265015),\n",
       " ('Amazon', 0.27542173862457275),\n",
       " ('Chris_Halligan_PokerTek', 0.2752698063850403),\n",
       " ('viral_hemorrhagic_septicemia_VHS', 0.27129578590393066),\n",
       " ('Rocktober', 0.26739028096199036),\n",
       " ('necessarily', 0.26302453875541687),\n",
       " ('Health_Mary_Selecky', 0.26158663630485535),\n",
       " ('Fishburne', 0.26106157898902893),\n",
       " ('General_Willem_Wijnstekers', 0.26007768511772156),\n",
       " ('our', 0.25613293051719666)]"
      ]
     },
     "execution_count": 6,
     "metadata": {},
     "output_type": "execute_result"
    }
   ],
   "source": [
    "predict('data/sample/truck1.jpg', model, embedding_model)"
   ]
  },
  {
   "cell_type": "code",
   "execution_count": null,
   "metadata": {},
   "outputs": [],
   "source": [
    "model.save('model/saved_model.h5')"
   ]
  },
  {
   "cell_type": "code",
   "execution_count": null,
   "metadata": {},
   "outputs": [],
   "source": []
  }
 ],
 "metadata": {
  "kernelspec": {
   "display_name": "ml-env",
   "language": "python",
   "name": "ml-env"
  },
  "language_info": {
   "codemirror_mode": {
    "name": "ipython",
    "version": 3
   },
   "file_extension": ".py",
   "mimetype": "text/x-python",
   "name": "python",
   "nbconvert_exporter": "python",
   "pygments_lexer": "ipython3",
   "version": "3.6.3"
  }
 },
 "nbformat": 4,
 "nbformat_minor": 2
}

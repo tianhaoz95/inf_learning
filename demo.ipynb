{
 "cells": [
  {
   "cell_type": "code",
   "execution_count": 1,
   "metadata": {},
   "outputs": [
    {
     "name": "stderr",
     "output_type": "stream",
     "text": [
      "C:\\Users\\tianh\\Desktop\\environments\\mlenv\\lib\\site-packages\\gensim\\utils.py:1167: UserWarning: detected Windows; aliasing chunkize to chunkize_serial\n",
      "  warnings.warn(\"detected Windows; aliasing chunkize to chunkize_serial\")\n",
      "C:\\Users\\tianh\\Desktop\\environments\\mlenv\\lib\\site-packages\\h5py\\__init__.py:36: FutureWarning: Conversion of the second argument of issubdtype from `float` to `np.floating` is deprecated. In future, it will be treated as `np.float64 == np.dtype(float).type`.\n",
      "  from ._conv import register_converters as _register_converters\n",
      "Using TensorFlow backend.\n"
     ]
    }
   ],
   "source": [
    "import gensim\n",
    "import matplotlib.pyplot as plt\n",
    "import numpy as np\n",
    "from PIL import Image\n",
    "from util.dataset_util import *\n",
    "from util.model_util import *\n",
    "from keras.applications.vgg16 import VGG16\n",
    "from keras.optimizers import SGD\n",
    "from keras.models import load_model"
   ]
  },
  {
   "cell_type": "code",
   "execution_count": 2,
   "metadata": {},
   "outputs": [],
   "source": [
    "embedding_model = read_embedding_model('model/GoogleNews-vectors-negative300.bin')"
   ]
  },
  {
   "cell_type": "code",
   "execution_count": 3,
   "metadata": {},
   "outputs": [
    {
     "name": "stderr",
     "output_type": "stream",
     "text": [
      "C:\\Users\\tianh\\Desktop\\environments\\mlenv\\lib\\site-packages\\keras\\models.py:291: UserWarning: Error in loading the saved optimizer state. As a result, your model is starting with a freshly initialized optimizer.\n",
      "  warnings.warn('Error in loading the saved optimizer '\n"
     ]
    }
   ],
   "source": [
    "model = None\n",
    "load_saved = True\n",
    "if load_saved:\n",
    "    model = load_model('model/saved_model.h5')\n",
    "else:\n",
    "    model = create_model()"
   ]
  },
  {
   "cell_type": "code",
   "execution_count": 4,
   "metadata": {},
   "outputs": [
    {
     "name": "stdout",
     "output_type": "stream",
     "text": [
      "_________________________________________________________________\n",
      "Layer (type)                 Output Shape              Param #   \n",
      "=================================================================\n",
      "vgg16 (Model)                (None, 512)               14714688  \n",
      "_________________________________________________________________\n",
      "dense_1 (Dense)              (None, 2048)              1050624   \n",
      "_________________________________________________________________\n",
      "dense_2 (Dense)              (None, 1024)              2098176   \n",
      "_________________________________________________________________\n",
      "dense_3 (Dense)              (None, 512)               524800    \n",
      "_________________________________________________________________\n",
      "dense_4 (Dense)              (None, 300)               153900    \n",
      "=================================================================\n",
      "Total params: 18,542,188\n",
      "Trainable params: 3,827,500\n",
      "Non-trainable params: 14,714,688\n",
      "_________________________________________________________________\n"
     ]
    }
   ],
   "source": [
    "sgd = SGD(lr=5*1e-5, decay=1e-6, momentum=0.9)\n",
    "model.get_layer(name='vgg16').trainable = False\n",
    "model.compile(loss='mean_squared_error', optimizer=sgd)\n",
    "model.summary()"
   ]
  },
  {
   "cell_type": "code",
   "execution_count": 18,
   "metadata": {},
   "outputs": [],
   "source": [
    "loss_history = []"
   ]
  },
  {
   "cell_type": "code",
   "execution_count": null,
   "metadata": {},
   "outputs": [
    {
     "name": "stdout",
     "output_type": "stream",
     "text": [
      "iteration  1\n",
      "Epoch 1/10\n",
      "1603/1603 [==============================] - 17s 11ms/step - loss: 0.0258\n",
      "Epoch 2/10\n",
      "1603/1603 [==============================] - 17s 10ms/step - loss: 0.0254\n",
      "Epoch 3/10\n",
      "1603/1603 [==============================] - 17s 10ms/step - loss: 0.0251\n",
      "Epoch 4/10\n",
      "1603/1603 [==============================] - 17s 10ms/step - loss: 0.0248\n",
      "Epoch 5/10\n",
      "1603/1603 [==============================] - 17s 10ms/step - loss: 0.0246\n",
      "Epoch 6/10\n",
      "1603/1603 [==============================] - 17s 10ms/step - loss: 0.0244\n",
      "Epoch 7/10\n",
      "1603/1603 [==============================] - 17s 10ms/step - loss: 0.0242\n",
      "Epoch 8/10\n",
      "1603/1603 [==============================] - 17s 10ms/step - loss: 0.0241\n",
      "Epoch 9/10\n",
      "1603/1603 [==============================] - 17s 10ms/step - loss: 0.0239\n",
      "Epoch 10/10\n",
      " 224/1603 [===>..........................] - ETA: 14s - loss: 0.0246"
     ]
    }
   ],
   "source": [
    "for i in range(500):\n",
    "    print('iteration ', str(i+1))\n",
    "    imgs_cifar10, labels_cifar10 = read_cifar_batch('data/cifar10','data_batch_'+str(i%5+1),'batches.meta',embedding_model,(224,224),100)\n",
    "    imgs_cifar100, labels_cifar100 = read_cifar_batch('data/cifar100','train','meta',embedding_model,(224, 224),100)\n",
    "    imgs_caltech101, labels_caltech101 = read_caltech('data/caltech101', 5, (224, 224), embedding_model)\n",
    "    imgs_caltech256, labels_caltech256 = read_caltech('data/caltech256', 5, (224, 224), embedding_model)\n",
    "    imgs_custom, labels_custom = read_caltech('data/custom', 5, (224, 224), embedding_model)\n",
    "    imgs = np.vstack((imgs_cifar10, imgs_cifar100, imgs_caltech101, imgs_caltech256, imgs_custom))\n",
    "    labels = np.vstack((labels_cifar10, labels_cifar100, labels_caltech101, labels_caltech256, labels_custom))\n",
    "    loss = model.fit(x=imgs, y=labels, epochs=10, verbose=1, shuffle=True)\n",
    "    loss_history.extend(loss.history['loss'])\n",
    "    if i%10 == 0:\n",
    "        model.save('model/saved_model.h5')"
   ]
  },
  {
   "cell_type": "code",
   "execution_count": 21,
   "metadata": {},
   "outputs": [
    {
     "data": {
      "image/png": "[encoded data removed]",
      "text/plain": [
       "<matplotlib.figure.Figure at 0x2afdf12bcf8>"
      ]
     },
     "metadata": {},
     "output_type": "display_data"
    }
   ],
   "source": [
    "plt.figure()\n",
    "plt.plot(loss_history)\n",
    "plt.show()"
   ]
  },
  {
   "cell_type": "code",
   "execution_count": 15,
   "metadata": {},
   "outputs": [
    {
     "name": "stdout",
     "output_type": "stream",
     "text": [
      "\r",
      "18/18 [==============================] - 0s 10ms/step\n"
     ]
    },
    {
     "data": {
      "text/plain": [
       "0.022115372121334076"
      ]
     },
     "execution_count": 15,
     "metadata": {},
     "output_type": "execute_result"
    }
   ],
   "source": [
    "imgs_test, labels_test = read_caltech('data/test', 5, (224, 224), embedding_model)\n",
    "model.evaluate(x=imgs_test, y=labels_test, verbose=1)"
   ]
  },
  {
   "cell_type": "code",
   "execution_count": 17,
   "metadata": {},
   "outputs": [
    {
     "name": "stdout",
     "output_type": "stream",
     "text": [
      "1/1 [==============================] - 0s 217ms/step\n",
      "[ 0.00691646 -0.0688502  -0.04001001  0.17705329 -0.09200305 -0.09946471\n",
      " -0.03058709 -0.0168856   0.18320896 -0.00667398  0.12555768 -0.266822\n",
      " -0.07632462 -0.06964496 -0.11636984  0.15773928 -0.07438608  0.10266893\n",
      " -0.02859509 -0.04312747  0.08348525  0.08167507  0.0780967   0.01756329\n",
      "  0.04581498  0.0080864  -0.14269792  0.17742977  0.00998209  0.0128263\n",
      " -0.1913908  -0.07347117 -0.06899538  0.04335061  0.02660489 -0.0536364\n",
      " -0.04088779  0.05936055  0.01410387 -0.06612661 -0.02534005 -0.07688256\n",
      "  0.18176343  0.09397325  0.03787327 -0.09799411 -0.02327575 -0.00573934\n",
      "  0.10921634 -0.04526187 -0.20605434  0.07867944  0.17595153 -0.12866567\n",
      "  0.03160847 -0.07177016  0.05633695 -0.09144722  0.08161859 -0.04082317\n",
      "  0.01999977 -0.06590128 -0.07611112  0.00879839  0.11309446  0.05954796\n",
      " -0.03907567  0.02545435 -0.06014112  0.11266386  0.07008443 -0.0472017\n",
      "  0.00478592 -0.14673606 -0.18698935  0.00756519 -0.02679269 -0.06268622\n",
      "  0.11281209 -0.12297571  0.01651744  0.03241605  0.06614157  0.0484729\n",
      " -0.15667324 -0.01106403  0.01768546  0.10552112  0.13221446  0.06540324\n",
      " -0.01541106  0.03714965 -0.12800385 -0.11937378  0.00697046 -0.20505486\n",
      "  0.18052955 -0.12924267  0.11279476 -0.11890581  0.01814    -0.16995184\n",
      "  0.10079808  0.09268114  0.14210987 -0.03560245  0.17470765 -0.04969646\n",
      " -0.00405458 -0.0310061  -0.13448882  0.01573649 -0.01315928 -0.06016336\n",
      "  0.02276626 -0.08063073  0.00084635 -0.00256024 -0.06108714 -0.09152134\n",
      " -0.07605859 -0.12364049 -0.04737724 -0.0398155   0.03352033  0.05141777\n",
      " -0.11457255  0.01732923  0.01130769  0.17585072 -0.03587514 -0.07961265\n",
      " -0.16458443 -0.00768414  0.04684867  0.09361601  0.05927204 -0.011448\n",
      " -0.13842037  0.04178564  0.09035517 -0.00715922  0.01354419 -0.0038764\n",
      "  0.13248529  0.02903603 -0.03362523 -0.14176023  0.10649653 -0.08001956\n",
      "  0.16684726  0.13806142 -0.07823484  0.0136892   0.02708695  0.02176359\n",
      " -0.05216252 -0.06108619 -0.08039711 -0.06514713  0.02735268 -0.02544001\n",
      "  0.07313174 -0.08112191 -0.01868145  0.05835249  0.0497485  -0.01840106\n",
      " -0.06322691 -0.06321062 -0.09166554 -0.08361673 -0.04804977  0.05297875\n",
      " -0.18372606 -0.0570777   0.06317288 -0.11596052 -0.13645093  0.05601583\n",
      " -0.13588095 -0.09510194 -0.00413436 -0.01398052  0.14694206 -0.05846243\n",
      "  0.00465766  0.00980858  0.08337361  0.1336436   0.06146598 -0.00458335\n",
      " -0.15893923  0.0778019  -0.10775315  0.06522863  0.05937821 -0.13953331\n",
      " -0.03031369  0.00692718 -0.07796923 -0.04184013 -0.12394718 -0.071847\n",
      "  0.15764555  0.08915167 -0.05962535 -0.05892    -0.01736644  0.09595285\n",
      " -0.20528804  0.04245345 -0.08133978  0.02314151  0.054873    0.07797517\n",
      " -0.0070622   0.09718028 -0.07726559  0.07456735 -0.00226988 -0.01280271\n",
      "  0.11634041 -0.05699412  0.10497381 -0.09180774  0.03144288  0.10575662\n",
      "  0.05528982 -0.09788973 -0.02119188 -0.13425837 -0.0659067  -0.13856912\n",
      " -0.04853748  0.00516311 -0.1551388  -0.03686925  0.11405899 -0.05295751\n",
      "  0.21557797 -0.16488563 -0.08514281 -0.05788191 -0.0554877  -0.06236601\n",
      " -0.11714713 -0.12074876  0.02593153 -0.16552201 -0.07368634  0.05982465\n",
      "  0.05085169  0.09838857 -0.11188231  0.04954865  0.02628091 -0.0216871\n",
      " -0.0930926  -0.07248417  0.00489889  0.01357783 -0.09777819 -0.02765934\n",
      " -0.08991381  0.16192639 -0.09662505 -0.13079445 -0.06980631  0.0348005\n",
      " -0.09451592 -0.0075156   0.07357892  0.18592267  0.13760862 -0.12721597\n",
      "  0.04529695 -0.11180999 -0.00322323 -0.00519965 -0.01466273 -0.00484171\n",
      "  0.07608347  0.0165269   0.01686298  0.02754606 -0.15451252  0.02848165\n",
      "  0.03507538 -0.05362015 -0.16946122  0.11960576 -0.01419539 -0.06897998\n",
      "  0.0601544  -0.07814101 -0.03649012  0.04482579 -0.10111094  0.09432788]\n"
     ]
    },
    {
     "data": {
      "text/plain": [
       "[('airplanes', 0.5660192966461182),\n",
       " ('airplane', 0.5586729049682617),\n",
       " ('cashier_Ashley_Woloszyn', 0.5276556015014648),\n",
       " ('bare_knuckled_zingers', 0.504732608795166),\n",
       " ('Lego_creations', 0.4994543790817261),\n",
       " ('Moller_Skycar', 0.4915383458137512),\n",
       " ('gunny_sack', 0.491530179977417),\n",
       " ('whoosh_whoosh', 0.48970794677734375),\n",
       " ('motorized_gliders', 0.4896121919155121),\n",
       " ('batmobile', 0.48923659324645996)]"
      ]
     },
     "execution_count": 17,
     "metadata": {},
     "output_type": "execute_result"
    }
   ],
   "source": [
    "predict('data/sample/bike1.jpg', model, embedding_model)"
   ]
  },
  {
   "cell_type": "code",
   "execution_count": 11,
   "metadata": {},
   "outputs": [],
   "source": [
    "model.save('model/saved_model.h5')"
   ]
  },
  {
   "cell_type": "code",
   "execution_count": null,
   "metadata": {},
   "outputs": [],
   "source": []
  }
 ],
 "metadata": {
  "kernelspec": {
   "display_name": "ml-env",
   "language": "python",
   "name": "ml-env"
  },
  "language_info": {
   "codemirror_mode": {
    "name": "ipython",
    "version": 3
   },
   "file_extension": ".py",
   "mimetype": "text/x-python",
   "name": "python",
   "nbconvert_exporter": "python",
   "pygments_lexer": "ipython3",
   "version": "3.6.3"
  }
 },
 "nbformat": 4,
 "nbformat_minor": 2
}

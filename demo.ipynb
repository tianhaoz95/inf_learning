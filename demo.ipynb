{
 "cells": [
  {
   "cell_type": "code",
   "execution_count": 1,
   "metadata": {},
   "outputs": [
    {
     "name": "stderr",
     "output_type": "stream",
     "text": [
      "C:\\Users\\tianh\\Desktop\\environments\\mlenv\\lib\\site-packages\\gensim\\utils.py:1167: UserWarning: detected Windows; aliasing chunkize to chunkize_serial\n",
      "  warnings.warn(\"detected Windows; aliasing chunkize to chunkize_serial\")\n",
      "C:\\Users\\tianh\\Desktop\\environments\\mlenv\\lib\\site-packages\\h5py\\__init__.py:36: FutureWarning: Conversion of the second argument of issubdtype from `float` to `np.floating` is deprecated. In future, it will be treated as `np.float64 == np.dtype(float).type`.\n",
      "  from ._conv import register_converters as _register_converters\n",
      "Using TensorFlow backend.\n"
     ]
    }
   ],
   "source": [
    "import gensim\n",
    "import matplotlib.pyplot as plt\n",
    "import numpy as np\n",
    "from PIL import Image\n",
    "from util.dataset_util import *\n",
    "from util.model_util import *\n",
    "from keras.applications.vgg16 import VGG16\n",
    "from keras.models import load_model"
   ]
  },
  {
   "cell_type": "code",
   "execution_count": 2,
   "metadata": {},
   "outputs": [],
   "source": [
    "embedding_model = read_embedding_model('model/GoogleNews-vectors-negative300.bin')"
   ]
  },
  {
   "cell_type": "code",
   "execution_count": 3,
   "metadata": {},
   "outputs": [],
   "source": [
    "model = None\n",
    "load_saved = True\n",
    "if load_saved:\n",
    "    model = load_model('model/saved_model.h5')\n",
    "else:\n",
    "    model = create_model()"
   ]
  },
  {
   "cell_type": "code",
   "execution_count": 4,
   "metadata": {},
   "outputs": [
    {
     "name": "stdout",
     "output_type": "stream",
     "text": [
      "_________________________________________________________________\n",
      "Layer (type)                 Output Shape              Param #   \n",
      "=================================================================\n",
      "vgg16 (Model)                (None, 512)               14714688  \n",
      "_________________________________________________________________\n",
      "dense_1 (Dense)              (None, 2048)              1050624   \n",
      "_________________________________________________________________\n",
      "dense_2 (Dense)              (None, 1024)              2098176   \n",
      "_________________________________________________________________\n",
      "dense_3 (Dense)              (None, 512)               524800    \n",
      "_________________________________________________________________\n",
      "dense_4 (Dense)              (None, 300)               153900    \n",
      "=================================================================\n",
      "Total params: 18,542,188\n",
      "Trainable params: 18,542,188\n",
      "Non-trainable params: 0\n",
      "_________________________________________________________________\n"
     ]
    }
   ],
   "source": [
    "model.summary()"
   ]
  },
  {
   "cell_type": "code",
   "execution_count": 7,
   "metadata": {},
   "outputs": [
    {
     "name": "stdout",
     "output_type": "stream",
     "text": [
      "Train on 526 samples, validate on 132 samples\n",
      "Epoch 1/10\n",
      "526/526 [==============================] - 21s 40ms/step - loss: 0.0331 - val_loss: 0.0335\n",
      "Epoch 2/10\n",
      "526/526 [==============================] - 18s 34ms/step - loss: 0.0331 - val_loss: 0.0334\n",
      "Epoch 3/10\n",
      "526/526 [==============================] - 18s 34ms/step - loss: 0.0331 - val_loss: 0.0334\n",
      "Epoch 4/10\n",
      "526/526 [==============================] - 18s 34ms/step - loss: 0.0330 - val_loss: 0.0334\n",
      "Epoch 5/10\n",
      "526/526 [==============================] - 18s 34ms/step - loss: 0.0330 - val_loss: 0.0333\n",
      "Epoch 6/10\n",
      "526/526 [==============================] - 18s 34ms/step - loss: 0.0330 - val_loss: 0.0333\n",
      "Epoch 7/10\n",
      "526/526 [==============================] - 18s 34ms/step - loss: 0.0329 - val_loss: 0.0332\n",
      "Epoch 8/10\n",
      "526/526 [==============================] - 18s 34ms/step - loss: 0.0329 - val_loss: 0.0332\n",
      "Epoch 9/10\n",
      "526/526 [==============================] - 18s 34ms/step - loss: 0.0329 - val_loss: 0.0331\n",
      "Epoch 10/10\n",
      "526/526 [==============================] - 18s 34ms/step - loss: 0.0329 - val_loss: 0.0331\n",
      "Train on 590 samples, validate on 148 samples\n",
      "Epoch 1/10\n",
      "590/590 [==============================] - 21s 36ms/step - loss: 0.0437 - val_loss: 0.0483\n",
      "Epoch 2/10\n",
      "590/590 [==============================] - 20s 34ms/step - loss: 0.0437 - val_loss: 0.0483\n",
      "Epoch 3/10\n",
      "590/590 [==============================] - 20s 34ms/step - loss: 0.0436 - val_loss: 0.0483\n",
      "Epoch 4/10\n",
      "590/590 [==============================] - 20s 34ms/step - loss: 0.0436 - val_loss: 0.0482\n",
      "Epoch 5/10\n",
      "590/590 [==============================] - 20s 34ms/step - loss: 0.0436 - val_loss: 0.0482\n",
      "Epoch 6/10\n",
      "590/590 [==============================] - 20s 34ms/step - loss: 0.0435 - val_loss: 0.0481\n",
      "Epoch 7/10\n",
      "590/590 [==============================] - 20s 34ms/step - loss: 0.0435 - val_loss: 0.0481\n",
      "Epoch 8/10\n",
      "590/590 [==============================] - 20s 34ms/step - loss: 0.0435 - val_loss: 0.0480\n",
      "Epoch 9/10\n",
      "590/590 [==============================] - 20s 34ms/step - loss: 0.0434 - val_loss: 0.0480\n",
      "Epoch 10/10\n",
      "590/590 [==============================] - 20s 34ms/step - loss: 0.0434 - val_loss: 0.0479\n"
     ]
    }
   ],
   "source": [
    "for i in range(2):\n",
    "    imgs_cifar10, labels_cifar10 = read_cifar_batch('data/cifar10','data_batch_'+str(i%5+1),'batches.meta',embedding_model,(224,224),100)\n",
    "    imgs_cifar100, labels_cifar100 = read_cifar_batch('data/cifar100','train','meta',embedding_model,(224, 224),100)\n",
    "    imgs_caltech101, labels_caltech101 = read_caltech('data/caltech101', 3, (224, 224), embedding_model)\n",
    "    imgs_caltech256, labels_caltech256 = read_caltech('data/caltech256', 3, (224, 224), embedding_model)\n",
    "    imgs = np.vstack((imgs_cifar10, imgs_cifar100, imgs_caltech101, imgs_caltech256))\n",
    "    labels = np.vstack((labels_cifar10, labels_cifar100, labels_caltech101, labels_caltech256))\n",
    "    loss = model.fit(x=imgs, y=labels, epochs=10, verbose=1, validation_split=0.2)"
   ]
  },
  {
   "cell_type": "code",
   "execution_count": 8,
   "metadata": {},
   "outputs": [
    {
     "name": "stdout",
     "output_type": "stream",
     "text": [
      "\r",
      "1/1 [==============================] - 0s 401ms/step\n"
     ]
    },
    {
     "data": {
      "text/plain": [
       "[('slimy_slugs', 0.3196449875831604),\n",
       " ('inflatable_dolls', 0.31556111574172974),\n",
       " ('Tollini', 0.3128555715084076),\n",
       " ('bushy_tailed_rodents', 0.2996206283569336),\n",
       " ('Ellen_Roy_Herzfelder', 0.29908886551856995),\n",
       " ('Dragon_Coaster', 0.2988283634185791),\n",
       " ('orange_jacketed', 0.2983235716819763),\n",
       " ('watery_underworld', 0.2953779399394989),\n",
       " ('procreating', 0.29522109031677246),\n",
       " ('Jennifer_Aniston_Frances_McDormand', 0.29423797130584717)]"
      ]
     },
     "execution_count": 8,
     "metadata": {},
     "output_type": "execute_result"
    }
   ],
   "source": [
    "predict('data/sample/cat1.jpg', model, embedding_model)"
   ]
  },
  {
   "cell_type": "code",
   "execution_count": 9,
   "metadata": {},
   "outputs": [],
   "source": [
    "model.save('model/saved_model.h5')"
   ]
  },
  {
   "cell_type": "code",
   "execution_count": null,
   "metadata": {},
   "outputs": [],
   "source": []
  }
 ],
 "metadata": {
  "kernelspec": {
   "display_name": "ml-env",
   "language": "python",
   "name": "ml-env"
  },
  "language_info": {
   "codemirror_mode": {
    "name": "ipython",
    "version": 3
   },
   "file_extension": ".py",
   "mimetype": "text/x-python",
   "name": "python",
   "nbconvert_exporter": "python",
   "pygments_lexer": "ipython3",
   "version": "3.6.3"
  }
 },
 "nbformat": 4,
 "nbformat_minor": 2
}
